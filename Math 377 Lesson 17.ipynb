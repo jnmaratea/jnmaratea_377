{
 "cells": [
  {
   "cell_type": "code",
   "execution_count": 13,
   "metadata": {},
   "outputs": [],
   "source": [
    "from datascience import *\n",
    "import numpy as np\n",
    "from math import *\n",
    "import scipy"
   ]
  },
  {
   "cell_type": "markdown",
   "metadata": {},
   "source": [
    "**Documentation**\n",
    "For this notebook, hoenstly I had no idea what was going on. I asked C2C Coen Williams to help me out with it, so he showed me how he solved all the problems. If possible, I would like to email you and see if I could meet with you about this lesson on Friday since I will be in town for the day. I am sorry that this lesson isnt making too much sense. "
   ]
  },
  {
   "cell_type": "markdown",
   "metadata": {},
   "source": [
    "## Transformations"
   ]
  },
  {
   "cell_type": "markdown",
   "metadata": {},
   "source": [
    "In some cases, we may be interested in the distribution of a transformation of a random variable. For example, if we know the distribution of $X$, we may wish to know the distribution of $X^2$ or $2X$. \n",
    "\n",
    "It helps to consider the pmf/cdf of the original random variables. Let $Y=t(X)$ where $X$ is discrete:\n",
    "\n",
    "$$\n",
    "f_Y(y)=P(Y=y) = P(t(X)=y) = P( X = t^{-1}(y))\n",
    "$$\n",
    "\n",
    "In the continuous case, let's consider the cdf:\n",
    "\n",
    "$$\n",
    "F_Y(y)=P(Y\\leq y) = P(t(X)\\leq y) = P(X \\leq t^{-1}(y)) = F_X(t^{-1}(y))\n",
    "$$"
   ]
  },
  {
   "cell_type": "markdown",
   "metadata": {},
   "source": [
    "### Discrete"
   ]
  },
  {
   "cell_type": "markdown",
   "metadata": {},
   "source": [
    "#### Example 1\n",
    "\n",
    "Suppose the pmf for $X$ is given by the following table: \n",
    "\n",
    " | value of $X$  | -2 | -1 | 0 | 1 | 2 | \n",
    " | ------ | ------ | ----- | ----- | ----- | ----- |\n",
    " | probability | 0.05 | 0.10 | 0.35 | 0.30 | 0.20 |\n",
    "\n",
    "Find the distribution of $X^2$ and calculate $E(X^2)$. Does $E(X^2) = [E(X)]^2$? "
   ]
  },
  {
   "cell_type": "markdown",
   "metadata": {},
   "source": []
  },
  {
   "cell_type": "code",
   "execution_count": 9,
   "metadata": {},
   "outputs": [
    {
     "name": "stdout",
     "output_type": "stream",
     "text": [
      "x^2  | Probability\n",
      "0    | 0.35\n",
      "1    | 0.4\n",
      "4    | 0.25\n",
      "E(x^2)= 1.4\n",
      "0.25\n",
      "1.4 is not equal to .25\n"
     ]
    }
   ],
   "source": [
    "dist_x2 = Table().with_columns('x^2', [0,1,4], 'Probability', [.35,.4,.25])\n",
    "E_x_squared = sum(dist_x2.column(0)*dist_x2.column(1))\n",
    "E_x = ((-2*.05) + (-1*.1) + .3+ .4)**2\n",
    "print(dist_x2)\n",
    "print('E(x^2)=', E_x_squared)\n",
    "print(E_x)\n",
    "print('1.4 is not equal to .25')\n"
   ]
  },
  {
   "cell_type": "markdown",
   "metadata": {},
   "source": [
    "#### Example 2\n",
    "Let $X \\sim \\textsf{Binom}(n,p)$. What is the pmf for $X+3$? Make sure you specify the domain of $X+3$. "
   ]
  },
  {
   "cell_type": "markdown",
   "metadata": {},
   "source": [
    "X = Binom(n,p,x)=choose(n,x)*p^x*(1-p)^(n-x) Thus Y = X + 3  t^-1=X=Y-3\n",
    "n>1, 0<p<1, 0<x<n\n",
    "fy(Y) = P(Y=y)=P(X+3=y) = P(X=y-3) = choose(n y-3)*p^(y-3)*(1-p)^(n-y+3)\n",
    "\n",
    "$$\n",
    "fy(Y) = choose(n y-3)*[p**(y-3]*[(1-p)**(n-y+3)\n",
    "$$\n",
    "y must be domain of 3 to n+3 inclusive"
   ]
  },
  {
   "cell_type": "markdown",
   "metadata": {},
   "source": [
    "#### Example 3\n",
    "\n",
    "Let $X \\sim \\textsf{Unif}(0,1)$. Let $Y=X^2$. Find the **pdf** of $Y$. Again, specify the domain of $Y$. "
   ]
  },
  {
   "cell_type": "markdown",
   "metadata": {},
   "source": [
    "fx(X)= 1 for all X\n",
    "\n",
    "for cdf of Y: Fy(Y) = P(Y</y)=P(X^2</y)=P(x</ y^.5) = fx(y^.5) and since it is uniform on X, Fy(Y) = y^.5\n",
    "\n",
    "for pdf of Y: Fx(x)= int(fx(x))dz from 0 to x thus, \n",
    "\n",
    "$$\n",
    "fy(Y) = d/dy*Fy(y)=d/dy*y^.5=.5*[y**(-.5)]\n",
    "$$\n",
    "domain of y is from 0 noninclusive to 1 inclusive because 0</X</1 and it is y^(-.5)"
   ]
  },
  {
   "cell_type": "markdown",
   "metadata": {},
   "source": [
    "## Moment Generating Functions (MGF)"
   ]
  },
  {
   "cell_type": "markdown",
   "metadata": {},
   "source": [
    "One powerful concept in probability is the moment generating function (mgf). Let $X$ be a random variable. The mgf of $X$ is denoted by $M_X(t)$. This function is powerful because it can be used as a shortcut to find the $k$th central moment. Specifically,\n",
    "\n",
    "$$\n",
    "E(X^k) = \\frac{d^k}{dt^k} M_X(t) \\bigg |_{t=0}\n",
    "$$\n",
    "\n",
    "If you know the moment generating function of $X$, you can simply take the derivative of it with respect to $t$, evaluate at $t=0$ and the result is the expected value of $X$, $E(X)$. \n",
    "\n",
    "The mgf of $X$ is found by\n",
    "\n",
    "$$\n",
    "M_X(t) = E(e^{tX})\n",
    "$$\n",
    "\n",
    "#### Example 4: \n",
    "\n",
    "Let $X$ be a random variable with the exponential distribution with parameter $\\lambda >0$. Recall that $f_X(x) = \\lambda e^{-\\lambda x}$, for $x>0$. Find the mgf of $X$. Use it to verify that $E(X) = \\frac{1}{\\lambda}$. \n",
    "\n"
   ]
  },
  {
   "cell_type": "markdown",
   "metadata": {},
   "source": [
    "  E(X^k)=int(x^k*f(x) dx, on x)=d^k/dt^k*Mx(t) at t=0\n",
    "  \n",
    "  so mgf of X is Mx(t)=E[e^tx]=int(e^tx*f(x))on x\n",
    " \n",
    "  =int(e^(tx)*lam*e^(-lam*x)) on x\n",
    " \n",
    "  =int(lam*e^((t-lam)x)) on x\n",
    "  \n",
    "  =lam/(t-lam)*e^((t-lam)x) from 0 to inf. \n",
    " \n",
    "  for this to converge, t must be less than lam. =lam/(lam-t) when t=1  =lam/(lam-1)\n",
    " \n",
    "  E(x) is the first derivative of Mx(t)=lam/(lam-t) evaled at t=0\n",
    " \n",
    "  E(x)=d/dt [lam*(-t+lam)^-1]\n",
    " \n",
    "  =lam*(-t+lam)^-2 @t=0  \n",
    "\n",
    "  = lam/lam^2\n",
    "\n",
    "  =1/lam\n"
   ]
  },
  {
   "cell_type": "markdown",
   "metadata": {},
   "source": [
    "#### Example 5:\n",
    "\n",
    "The moment generating function of a random variable with the binomial distribution (with parameters $n$ and $p$) is given by $M_X(t) = (pe^t + 1 - p)^n$. Use the mgf to verify that $E(X)=np$ and $V(X)=np(1-p)$. Note that $V(X)=E(X^2)-[E(X)]^2$. "
   ]
  },
  {
   "cell_type": "markdown",
   "metadata": {},
   "source": [
    "1. Evaluating d/dt[Mx(t)]  returns p*e^t*n(p*e^t+1-p)^n-1 at t=0 returns p*n(p+1-p)=np=E(x)\n",
    "2. V(X)=E(X^2)-[E(X)]^2\n",
    "   \n",
    "   E(X^2)=d^2/dt^2[Mx(t)]  returns (p*e^t)^2*n*(n-1)*(p*e^t+1-p) at t=0 returns np(np-p+1)(p-p+1)^(n-2)\n",
    "   \n",
    "   thus V(X)=np(np-p+1)-n^2p^2=np(1-p)"
   ]
  },
  {
   "cell_type": "markdown",
   "metadata": {},
   "source": [
    "### Important Results\n",
    "\n",
    "1) Let $X$ and $Y$ be random variables with mgfs $M_X$ and $M_Y$. $X$ and $Y$ are said to be identically distributed if and only if $M_X(t) = M_Y(t)$ for all $t$ in som interval containing 0. \n",
    "\n",
    "2) MGF of linear transformation of random variable: If $a$ and $b$ are constants, then \n",
    "\n",
    "$$\n",
    "M_{aX+b}(t) = e^{bt}M_X(at)\n",
    "$$\n",
    "\n",
    "3) MGF of sum of independent random variables: If $X$ and $Y$ are independent random variables with mgfs $M_X$ and $M_Y$, then\n",
    "\n",
    "$$\n",
    "M_{X+Y}(t)=M_X(t) \\cdot M_Y(t)\n",
    "$$\n",
    "\n",
    " "
   ]
  },
  {
   "cell_type": "markdown",
   "metadata": {},
   "source": [
    "#### Example 6 \n",
    "\n",
    "Let $X \\sim \\textsf{Exp}(\\lambda)$. Find the distribution of $Y=3X$."
   ]
  },
  {
   "cell_type": "markdown",
   "metadata": {},
   "source": [
    "Fy(Y)=Fx(1/3*y)=1-e^(-lam*y/3)\n",
    "\n",
    "fy(Y)=d/dt[Fy(Y)]=(lam/3)*e^(-lam*y/3)\n",
    "\n",
    "Y~Exp(lam/3)"
   ]
  },
  {
   "cell_type": "code",
   "execution_count": 14,
   "metadata": {},
   "outputs": [
    {
     "data": {
      "text/html": [
       "<table border=\"1\" class=\"dataframe\">\n",
       "    <thead>\n",
       "        <tr>\n",
       "            <th>Y</th> <th>F_y(y)</th> <th>X</th> <th>F_x(x)</th>\n",
       "        </tr>\n",
       "    </thead>\n",
       "    <tbody>\n",
       "        <tr>\n",
       "            <td>0   </td> <td>0       </td> <td>0   </td> <td>0       </td>\n",
       "        </tr>\n",
       "        <tr>\n",
       "            <td>0.1 </td> <td>0.153518</td> <td>0.1 </td> <td>0.393469</td>\n",
       "        </tr>\n",
       "        <tr>\n",
       "            <td>0.2 </td> <td>0.283469</td> <td>0.2 </td> <td>0.632121</td>\n",
       "        </tr>\n",
       "        <tr>\n",
       "            <td>0.3 </td> <td>0.393469</td> <td>0.3 </td> <td>0.77687 </td>\n",
       "        </tr>\n",
       "        <tr>\n",
       "            <td>0.4 </td> <td>0.486583</td> <td>0.4 </td> <td>0.864665</td>\n",
       "        </tr>\n",
       "        <tr>\n",
       "            <td>0.5 </td> <td>0.565402</td> <td>0.5 </td> <td>0.917915</td>\n",
       "        </tr>\n",
       "        <tr>\n",
       "            <td>0.6 </td> <td>0.632121</td> <td>0.6 </td> <td>0.950213</td>\n",
       "        </tr>\n",
       "        <tr>\n",
       "            <td>0.7 </td> <td>0.688597</td> <td>0.7 </td> <td>0.969803</td>\n",
       "        </tr>\n",
       "        <tr>\n",
       "            <td>0.8 </td> <td>0.736403</td> <td>0.8 </td> <td>0.981684</td>\n",
       "        </tr>\n",
       "        <tr>\n",
       "            <td>0.9 </td> <td>0.77687 </td> <td>0.9 </td> <td>0.988891</td>\n",
       "        </tr>\n",
       "        <tr>\n",
       "            <td>1   </td> <td>0.811124</td> <td>1   </td> <td>0.993262</td>\n",
       "        </tr>\n",
       "        <tr>\n",
       "            <td>1.1 </td> <td>0.84012 </td> <td>1.1 </td> <td>0.995913</td>\n",
       "        </tr>\n",
       "        <tr>\n",
       "            <td>1.2 </td> <td>0.864665</td> <td>1.2 </td> <td>0.997521</td>\n",
       "        </tr>\n",
       "        <tr>\n",
       "            <td>1.3 </td> <td>0.885441</td> <td>1.3 </td> <td>0.998497</td>\n",
       "        </tr>\n",
       "        <tr>\n",
       "            <td>1.4 </td> <td>0.903028</td> <td>1.4 </td> <td>0.999088</td>\n",
       "        </tr>\n",
       "        <tr>\n",
       "            <td>1.5 </td> <td>0.917915</td> <td>1.5 </td> <td>0.999447</td>\n",
       "        </tr>\n",
       "        <tr>\n",
       "            <td>1.6 </td> <td>0.930517</td> <td>1.6 </td> <td>0.999665</td>\n",
       "        </tr>\n",
       "        <tr>\n",
       "            <td>1.7 </td> <td>0.941184</td> <td>1.7 </td> <td>0.999797</td>\n",
       "        </tr>\n",
       "        <tr>\n",
       "            <td>1.8 </td> <td>0.950213</td> <td>1.8 </td> <td>0.999877</td>\n",
       "        </tr>\n",
       "        <tr>\n",
       "            <td>1.9 </td> <td>0.957856</td> <td>1.9 </td> <td>0.999925</td>\n",
       "        </tr>\n",
       "    </tbody>\n",
       "</table>"
      ],
      "text/plain": [
       "<IPython.core.display.HTML object>"
      ]
     },
     "metadata": {},
     "output_type": "display_data"
    },
    {
     "name": "stdout",
     "output_type": "stream",
     "text": [
      "None\n"
     ]
    }
   ],
   "source": [
    "lam=5\n",
    "distY= Table().with_columns('Y', np.arange(0,2, .1)).with_columns('F_y(y)', scipy.stats.expon.cdf(np.arange(0,2, .1)/3, 0, 1/lam))\n",
    "distY= distY.with_column('X', np.arange(0, 2, .1)).with_column('F_x(x)', scipy.stats.expon.cdf(np.arange(0, 2, .1), 0, 1/lam))\n",
    "print(distY.show())"
   ]
  },
  {
   "cell_type": "markdown",
   "metadata": {},
   "source": [
    "#### Example 7 \n",
    "\n",
    "Suppose $X_1, X_2, ..., X_n$ are independent identically distributed $\\textsf{Norm}(\\mu,\\sigma)$. Find the distribution of $S=X_1+X_2+...+X_n$ and $\\bar{X} = \\frac{X_1+X_2+...+X_n}{n}$. Note that the mgf of a normally distributed random variable is $M_X(t)=e^{\\mu t+\\sigma^2 t^2/2}$."
   ]
  },
  {
   "cell_type": "markdown",
   "metadata": {},
   "source": [
    "$$\n",
    "S=X_1+X_2+...+X_n = Norm(\\mu*n, \\sqrt(n*\\sigma^2))\n",
    "$$\n",
    "$$\n",
    "mean(X)=(X_1+X_2+...+X_n)/n= Norm(\\mu, \\sqrt(n*\\sigma^2)*1/n)\n",
    "$$ "
   ]
  },
  {
   "cell_type": "code",
   "execution_count": null,
   "metadata": {},
   "outputs": [],
   "source": []
  }
 ],
 "metadata": {
  "kernelspec": {
   "display_name": "Python 3",
   "language": "python",
   "name": "python3"
  },
  "language_info": {
   "codemirror_mode": {
    "name": "ipython",
    "version": 3
   },
   "file_extension": ".py",
   "mimetype": "text/x-python",
   "name": "python",
   "nbconvert_exporter": "python",
   "pygments_lexer": "ipython3",
   "version": "3.6.5"
  }
 },
 "nbformat": 4,
 "nbformat_minor": 2
}
