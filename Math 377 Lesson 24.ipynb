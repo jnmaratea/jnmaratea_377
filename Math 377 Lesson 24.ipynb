{
 "cells": [
  {
   "cell_type": "code",
   "execution_count": 1,
   "metadata": {},
   "outputs": [],
   "source": [
    "from datascience import *\n",
    "import numpy as np\n",
    "from math import *\n",
    "from scipy import stats\n",
    "import matplotlib.pyplot as plt\n",
    "%matplotlib inline"
   ]
  },
  {
   "cell_type": "markdown",
   "metadata": {},
   "source": [
    "## Lesson 24: Hypothesis Testing Errors & Power"
   ]
  },
  {
   "cell_type": "markdown",
   "metadata": {},
   "source": [
    "Throughout this block, we have been studying hypothesis tests. We have covered the four basic steps of any hypothesis test, and we have practiced various methods for obtaining the distribution of our test statistic under the null hypothesis. \n",
    "\n",
    "After we have reached a conclusion (reject or fail to reject), we must consider possible errors. \n",
    "\n",
    "### Type I error \n",
    "\n",
    "Type I error is the event that we rejected the null hypothesis when the null hypothesis was actually true. Type I error is also known as a false positive. The probability of a Type I error is usually defined by the threshold used for rejection. A common threshold is 0.05. Those of you who have taken statistics before may recognize this value as $\\alpha$. \n",
    "\n",
    "### Type II error\n",
    "\n",
    "Type II error is the event that we failed to reject the null hypothesis when the null hypothesis was actually false. This is otherwise known as a false negative. The probability of a Type II error is harder to find and requires a more in-depth analysis of a hypothesis test. The probability of a Type II error is often given as $\\beta$, and $1-\\beta$ is referred to as **Power**. The power of a test is probability that we will reject the null hypothesis when we are supposed to. \n",
    "\n",
    "Which one of these errors is more serious? It depends on the context of the problem. "
   ]
  },
  {
   "cell_type": "markdown",
   "metadata": {},
   "source": [
    "### Example: Golf Balls\n",
    "\n",
    "Joe has a summer job at a golf course and one of his jobs is to fish out golf balls from the water traps. He has a theory that certain types of golf ball are more likely to end up in the water than others. Let's assume there are four brands of golf ball, let's and assume that all four are used equally at this golf course. He fishes out 100 golf balls and counts each brand. He finds 30 of brand A, 30 of brand B, 20 of brand C and 20 of brand D. Conduct a hypothesis test to determine whether certain types of golf ball are more likely than others to end up in the water."
   ]
  },
  {
   "cell_type": "markdown",
   "metadata": {},
   "source": [
    "Step 1: Hypotheses\n",
    "\n",
    "H_o = There is no difference in the likihood that certain types of golfballs end up in the water. \n",
    "\n",
    "H_a = Certain brands of golf_balls are more likely than others to end up in the water. "
   ]
  },
  {
   "cell_type": "markdown",
   "metadata": {},
   "source": [
    "Step 2: Test statistic\n",
    "\n",
    "There are many correct answers, but let's go with sum of absolute difference between observed and expected counts under $H_0$. To do this, we need to find the expected counts. If each ball was equally likely, how many should we expected to find of each if we select 100 golf balls? "
   ]
  },
  {
   "cell_type": "code",
   "execution_count": 4,
   "metadata": {},
   "outputs": [
    {
     "name": "stdout",
     "output_type": "stream",
     "text": [
      "Brand A: 25.0 Brand B: 25.0 Brand C: 25.0 Brand D: 25.0\n"
     ]
    }
   ],
   "source": [
    "count_a = 30 \n",
    "count_b = 30\n",
    "count_c = 20\n",
    "count_d = 20\n",
    "\n",
    "p_a = .25\n",
    "p_b = .25\n",
    "p_c = .25\n",
    "p_d = .25\n",
    "\n",
    "expected_a = 100 * p_a\n",
    "expected_b = 100 * p_b\n",
    "expected_c = 100 * p_c\n",
    "expected_d = 100* p_d\n",
    "\n",
    "print('Brand A:', expected_a, 'Brand B:', expected_b, 'Brand C:', expected_c, 'Brand D:', expected_d)"
   ]
  },
  {
   "cell_type": "markdown",
   "metadata": {},
   "source": [
    "Step 3: $p$-value\n",
    "\n",
    "We need the distribution of the test statistic under $H_0$. "
   ]
  },
  {
   "cell_type": "code",
   "execution_count": 5,
   "metadata": {},
   "outputs": [
    {
     "data": {
      "text/plain": [
       "20.0"
      ]
     },
     "execution_count": 5,
     "metadata": {},
     "output_type": "execute_result"
    }
   ],
   "source": [
    "null_test_stat = abs(count_a - expected_a) + abs(count_b - expected_b) + abs(count_c - expected_c) + abs(count_d - expected_d)\n",
    "null_test_stat\n"
   ]
  },
  {
   "cell_type": "code",
   "execution_count": 8,
   "metadata": {},
   "outputs": [
    {
     "name": "stdout",
     "output_type": "stream",
     "text": [
      "The p-value is of Joes test statistic is: 0.1856\n"
     ]
    }
   ],
   "source": [
    "#create simulations to compare the test statistics with Joe's test statistic and calculate the p-value\n",
    "\n",
    "ts = []\n",
    "repetitions = 10000\n",
    "for i in np.arange(repetitions):\n",
    "    rs = stats.multinomial.rvs(100,[.25,.25,.25,.25], size= 1)\n",
    "    ts = np.append(ts,sum(abs(sum(rs)-25)))\n",
    "p_value = np.count_nonzero(ts>=null_test_stat)/repetitions\n",
    "print('The p-value is of Joes test statistic is:' , p_value)"
   ]
  },
  {
   "cell_type": "markdown",
   "metadata": {},
   "source": [
    "Step 4: Conclude\n",
    "\n",
    "Under our simulation, we fail to reject the null hypothesis due to the our p-value of 0.18, which is larger than 0.05. This suggests that Joe's disparity in the amount of balls from each brand found in the lake can be a result of chance, not that certain balls are more likely to end up in the water. "
   ]
  },
  {
   "cell_type": "markdown",
   "metadata": {},
   "source": [
    "What kind of error could we have made in this case? "
   ]
  },
  {
   "cell_type": "markdown",
   "metadata": {},
   "source": [
    "We could make a type II error (false-negative) because we failed to reject the null. "
   ]
  },
  {
   "cell_type": "markdown",
   "metadata": {},
   "source": [
    "#### Power \n",
    "Suppose that, in truth, 30% of the balls found in the water were brand A, 30% were brand B, 20% were brand C and 20% were brand D. In this case, our collected sample reflected this truth perfectly. However, our hypothesis test failed to recognize this deviation from equal proportions. We made a type II error. This is because this test has fairly low power. Use simulation to determine the power of this test. "
   ]
  },
  {
   "cell_type": "markdown",
   "metadata": {},
   "source": [
    "I am looking for the probability that I reject the null hypothesis given the true proportions laid out above. Well, first I need to figure out for what values of my test statistic I would reject $H_0$. "
   ]
  },
  {
   "cell_type": "code",
   "execution_count": 19,
   "metadata": {},
   "outputs": [
    {
     "name": "stdout",
     "output_type": "stream",
     "text": [
      "We would reject any test statistics outside of the following interval: [ 4.0 , 26.0 ]\n"
     ]
    }
   ],
   "source": [
    "upper_bound=percentile(97.5, ts)\n",
    "lower_bound=percentile(2.5, ts)\n",
    "print('We would reject any test statistics outside of the following interval: [', lower_bound, ',', upper_bound, ']' )"
   ]
  },
  {
   "cell_type": "markdown",
   "metadata": {},
   "source": [
    "Next, I need to simulate from the true population and determine how often my test statistic would have met this threshold. "
   ]
  },
  {
   "cell_type": "code",
   "execution_count": 10,
   "metadata": {},
   "outputs": [],
   "source": [
    "tsp = []\n",
    "for i in np.arange(10000):\n",
    "    rsp =stats.multinomial.rvs(100,[0.3,0.3,0.2,0.2],size=1)\n",
    "    tsp = np.append(tsp,sum(abs(sum(rsp)-25)))"
   ]
  },
  {
   "cell_type": "code",
   "execution_count": 11,
   "metadata": {},
   "outputs": [
    {
     "data": {
      "image/png": "[encoded data removed]",
      "text/plain": [
       "<Figure size 432x288 with 1 Axes>"
      ]
     },
     "metadata": {},
     "output_type": "display_data"
    }
   ],
   "source": [
    "plt.hist(tsp)\n",
    "plt.show()"
   ]
  },
  {
   "cell_type": "code",
   "execution_count": 12,
   "metadata": {},
   "outputs": [
    {
     "name": "stdout",
     "output_type": "stream",
     "text": [
      "We found a power of:  0.3328\n"
     ]
    }
   ],
   "source": [
    "power=np.mean(tsp>=(upper_bound+1))\n",
    "print('We found a power of: ', power)"
   ]
  },
  {
   "cell_type": "markdown",
   "metadata": {},
   "source": [
    "What do you think about this power? "
   ]
  },
  {
   "cell_type": "markdown",
   "metadata": {},
   "source": [
    "This test indicated that we will only find a considerable difference between the null hypothesis and the actual sample 33.28% of the time. This low value of power can be attributed to the data having values similar to one another, a small threshold, and a small sample size. "
   ]
  },
  {
   "cell_type": "markdown",
   "metadata": {},
   "source": [
    "Repeat this power calculation, but assume Joe collects 500 balls instead of 100. Note that you will have to obtain a new critical value. What does this tell you about power and sample size?"
   ]
  },
  {
   "cell_type": "code",
   "execution_count": 20,
   "metadata": {},
   "outputs": [
    {
     "data": {
      "text/plain": [
       "array([42., 52., 38., ..., 28., 24., 14.])"
      ]
     },
     "execution_count": 20,
     "metadata": {},
     "output_type": "execute_result"
    }
   ],
   "source": [
    "ts500 = []\n",
    "reps = 10000\n",
    "for i in np.arange(reps):\n",
    "    rs =stats.multinomial.rvs(500,[0.25,0.25,0.25,0.25],size=1)\n",
    "    ts500 = np.append(ts500,sum(abs(sum(rs)-125)))\n",
    "ts500"
   ]
  },
  {
   "cell_type": "code",
   "execution_count": 18,
   "metadata": {},
   "outputs": [
    {
     "data": {
      "image/png": "[encoded data removed]",
      "text/plain": [
       "<Figure size 432x288 with 1 Axes>"
      ]
     },
     "metadata": {},
     "output_type": "display_data"
    }
   ],
   "source": [
    "plt.hist(ts500)\n",
    "plt.show()"
   ]
  },
  {
   "cell_type": "code",
   "execution_count": 21,
   "metadata": {},
   "outputs": [
    {
     "name": "stdout",
     "output_type": "stream",
     "text": [
      "The test statistic for which we will reject is:  56.0\n"
     ]
    }
   ],
   "source": [
    "upper_bound_500=percentile(95,ts500)\n",
    "p_value_500 = np.count_nonzero(ts500>=125)/repetitions\n",
    "print('The test statistic for which we will reject is: ', upper_bound_500)"
   ]
  },
  {
   "cell_type": "code",
   "execution_count": 23,
   "metadata": {},
   "outputs": [
    {
     "name": "stdout",
     "output_type": "stream",
     "text": [
      "The power of the same test, with a larger sample size of 500 is: 0.9823\n"
     ]
    }
   ],
   "source": [
    "ts500p = []\n",
    "for i in np.arange(10000):\n",
    "    rs =stats.multinomial.rvs(500,[0.3,0.3,0.2,0.2],size=1)\n",
    "    ts500p = np.append(ts500p,sum(abs(sum(rs)-125)))\n",
    "power_500=np.mean(ts500p >= 56)\n",
    "print('The power of the same test, with a larger sample size of 500 is:', power_500)"
   ]
  },
  {
   "cell_type": "markdown",
   "metadata": {},
   "source": [
    "From this test we found that power and sample size are possitivly related. As sample size increases, power increases and it is easier to detect a difference between null simulation and test results. "
   ]
  },
  {
   "cell_type": "code",
   "execution_count": null,
   "metadata": {},
   "outputs": [],
   "source": []
  }
 ],
 "metadata": {
  "kernelspec": {
   "display_name": "Python 3",
   "language": "python",
   "name": "python3"
  },
  "language_info": {
   "codemirror_mode": {
    "name": "ipython",
    "version": 3
   },
   "file_extension": ".py",
   "mimetype": "text/x-python",
   "name": "python",
   "nbconvert_exporter": "python",
   "pygments_lexer": "ipython3",
   "version": "3.6.5"
  }
 },
 "nbformat": 4,
 "nbformat_minor": 2
}
