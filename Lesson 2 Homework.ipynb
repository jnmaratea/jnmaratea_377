{
 "cells": [
  {
   "cell_type": "markdown",
   "metadata": {},
   "source": [
    "###  Lesson 2 Practice Application\n",
    " \n",
    "*Question 1:*  \n",
    "> Data science is the practice of drawing conclusions from data sets through explorations, prediction, and inference. Using different techniques such as statistical evidence and computing, data scientists can ask questions about data to interpret data in a useful manner. This helps individuals make informed decisions. Because data science can help find associations between two things, there are a variety of ways to apply the knowledge gained from either observational studies and randomized controlled experiments. For instance, while at the academy, I could do a study looking for association between amount of time spent studying and GPA. If I were to keep confounding factors to a minimum, I could use the interpreted data to see how long I need to study to do well in a class. In the real Air Force, one could to a study between pay and divorce rates. One could look for an association between the two and then make a decision on whether or not they are willing to pay more to keep divorce rates down if there is an association between the two. I believe there are countless ways data science can be used not only in the Air Force, but also in the real world. \n",
    "\n",
    "*Question 2:*\t\n",
    "> The three focus areas are \n",
    " - \tExploration – identifying patterns in information\n",
    " - \tPrediction – using information to make informed guesses\n",
    " - \tInference – quantifying the degree of certainty \n",
    "     "
   ]
  },
  {
   "cell_type": "markdown",
   "metadata": {},
   "source": [
    "Question 4"
   ]
  },
  {
   "cell_type": "code",
   "execution_count": 1,
   "metadata": {},
   "outputs": [
    {
     "data": {
      "text/plain": [
       "12"
      ]
     },
     "execution_count": 1,
     "metadata": {},
     "output_type": "execute_result"
    }
   ],
   "source": [
    "3*4"
   ]
  },
  {
   "cell_type": "code",
   "execution_count": 2,
   "metadata": {},
   "outputs": [
    {
     "data": {
      "text/plain": [
       "59"
      ]
     },
     "execution_count": 2,
     "metadata": {},
     "output_type": "execute_result"
    }
   ],
   "source": [
    "18+41"
   ]
  },
  {
   "cell_type": "code",
   "execution_count": 3,
   "metadata": {},
   "outputs": [
    {
     "data": {
      "text/plain": [
       "800"
      ]
     },
     "execution_count": 3,
     "metadata": {},
     "output_type": "execute_result"
    }
   ],
   "source": [
    "1728-928"
   ]
  },
  {
   "cell_type": "markdown",
   "metadata": {},
   "source": [
    "Question 5"
   ]
  },
  {
   "cell_type": "code",
   "execution_count": 4,
   "metadata": {},
   "outputs": [
    {
     "name": "stdout",
     "output_type": "stream",
     "text": [
      "Jenna Maratea 👍\n"
     ]
    }
   ],
   "source": [
    "print(\"Jenna Maratea \\N{THUMBS UP SIGN}\")"
   ]
  },
  {
   "cell_type": "markdown",
   "metadata": {},
   "source": [
    "*Question 6:* \n",
    "> The relationship between increased ice cream sales and increased time may show correlation, but does not necessarily mean that increased ice cream sales cause an increase in violent crime. There could be confounding factors that are actually the cause of increased crime such as the fact that there is warmer weather outside (causing higher ice cream sales) and thus more criminals are likely to be out. Another confounding factor could be that where there are increased ice cream sales there is also more money which may lead to an increase in violent crime. When confounding factors are present, it is hard to determine what is actually causing the increased crime. Thus in this case, it cannot be said that high ice cream sales cause an increase in violent crimes. "
   ]
  },
  {
   "cell_type": "markdown",
   "metadata": {},
   "source": [
    "*Question 7*\n",
    "> An observational study is a study in which conclusions are based on data that has been observed but has not been generated. These studies normally include observation on a group of individuals and a factor of interest (treatment) and an outcome measured. The scientist simply watches, but does not manipulate any of the variables or try to give a treatment to a group. In experiment involves a study in which the scientist would have a control group and a treatment group and try to manipulate certain variables in order to find association between a treatment and an outcome. One example of this may be used in the medical field where a certain medicine is given to a treatment group and a placebo is given to a controlled group to see if the medication actually does what is says it should. "
   ]
  },
  {
   "cell_type": "code",
   "execution_count": null,
   "metadata": {},
   "outputs": [],
   "source": []
  }
 ],
 "metadata": {
  "kernelspec": {
   "display_name": "Python 3",
   "language": "python",
   "name": "python3"
  },
  "language_info": {
   "codemirror_mode": {
    "name": "ipython",
    "version": 3
   },
   "file_extension": ".py",
   "mimetype": "text/x-python",
   "name": "python",
   "nbconvert_exporter": "python",
   "pygments_lexer": "ipython3",
   "version": "3.6.5"
  }
 },
 "nbformat": 4,
 "nbformat_minor": 2
}
