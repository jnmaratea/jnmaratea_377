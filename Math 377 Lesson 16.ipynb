{
 "cells": [
  {
   "cell_type": "code",
   "execution_count": 10,
   "metadata": {},
   "outputs": [],
   "source": [
    "from datascience import *\n",
    "import numpy as np\n",
    "from math import *"
   ]
  },
  {
   "cell_type": "markdown",
   "metadata": {},
   "source": [
    "## Joint Distributions"
   ]
  },
  {
   "cell_type": "markdown",
   "metadata": {},
   "source": [
    "Recall from Lessons 13 & 14: let $X$ be a random variable. $X$ has a distribution that is described by a probability mass function (pmf) or probability density function (pdf). \n",
    "\n",
    "We can consider multiple random variables simultaneously using joint distributions. \n",
    "\n",
    "NOTE: When answering the questions below, you are not required to use Python. If you would like to answer in Markdown, feel free to change the type of the cell, or to use both types of cells. "
   ]
  },
  {
   "cell_type": "markdown",
   "metadata": {},
   "source": [
    "#### Example 1: Discrete Joint Distribution"
   ]
  },
  {
   "cell_type": "markdown",
   "metadata": {},
   "source": [
    "Let $X$ and $Y$ be discrete random variables that can each only take the values 0, 1 or 2, and do so according to the following distribution:"
   ]
  },
  {
   "cell_type": "markdown",
   "metadata": {},
   "source": [
    "\n",
    " |  | $X$  | 1 | 2 | 3 |\n",
    " |-- | ------ | ------ |\n",
    " |  | 1 | 0.17 | 0.15 | 0.08 |\n",
    " | $Y$ | 2 | 0.00 | 0.10 | 0.10 |\n",
    " |  | 3 | 0.08 | 0.20 | 0.12 |\n",
    " \n"
   ]
  },
  {
   "cell_type": "markdown",
   "metadata": {},
   "source": [
    "This is an example of a joint probability mass function (joint pmf), and is denoted as $f_{X,Y}(x,y)$. \n",
    "\n",
    "For example, the probability that $X$ takes the value 1 AND $Y$ takes the value 3, or $P(X=1,Y=3)$ is equal to 0.08. "
   ]
  },
  {
   "cell_type": "markdown",
   "metadata": {},
   "source": [
    "**_1.1_** Find $P(X = 2,Y=3)$. \n",
    "\n",
    "**_1.2_** Find $E(X+Y)$. "
   ]
  },
  {
   "cell_type": "markdown",
   "metadata": {},
   "source": [
    "1.1 P(x=2,y=3) = 0.20\n"
   ]
  },
  {
   "cell_type": "code",
   "execution_count": 30,
   "metadata": {},
   "outputs": [
    {
     "data": {
      "text/plain": [
       "4.05"
      ]
     },
     "execution_count": 30,
     "metadata": {},
     "output_type": "execute_result"
    }
   ],
   "source": [
    "expected_val_x_y = 2*(.17) + 3*(.15) + 4*(.10+ .08+ .08) + 5*(.20 +.10) + 6*(.12)\n",
    "expected_val_x_y"
   ]
  },
  {
   "cell_type": "markdown",
   "metadata": {},
   "source": [
    "### Marginal Probability"
   ]
  },
  {
   "cell_type": "markdown",
   "metadata": {},
   "source": [
    "When given a joint pmf like this, we may want to know the distribution of $X$ or $Y$ individually. Specifically, we might want to know $P(X=1)$ or $f_Y(y)$. \n",
    "\n",
    "Marginal probability can be found by summing across the remaining variable. Specifically,\n",
    "\n",
    "$$\n",
    "f_X(x)=\\sum_y f_{X,Y}(x,y)\n",
    "$$\n",
    "and \n",
    "$$\n",
    "f_Y(y)=\\sum_x f_{X,Y}(x,y)\n",
    "$$\n"
   ]
  },
  {
   "cell_type": "markdown",
   "metadata": {},
   "source": [
    "**_1.3_** Find $P(X=2)$. \n",
    "\n",
    "**_1.4_** Find $f_Y(y)$ (the marginal pmf of $Y$). \n",
    "\n",
    "**_1.5_** Find $E(Y)$ and $V(Y)$. "
   ]
  },
  {
   "cell_type": "code",
   "execution_count": 31,
   "metadata": {},
   "outputs": [
    {
     "name": "stdout",
     "output_type": "stream",
     "text": [
      "P(X=2) = 0.45\n"
     ]
    }
   ],
   "source": [
    "#1.3  \n",
    "print('P(X=2) =', 0.45)"
   ]
  },
  {
   "cell_type": "markdown",
   "metadata": {
    "scrolled": true
   },
   "source": [
    "**1.4 : **  "
   ]
  },
  {
   "cell_type": "code",
   "execution_count": 32,
   "metadata": {},
   "outputs": [
    {
     "data": {
      "text/html": [
       "<table border=\"1\" class=\"dataframe\">\n",
       "    <thead>\n",
       "        <tr>\n",
       "            <th>y</th> <th>probability</th>\n",
       "        </tr>\n",
       "    </thead>\n",
       "    <tbody>\n",
       "        <tr>\n",
       "            <td>0   </td> <td>0.4        </td>\n",
       "        </tr>\n",
       "        <tr>\n",
       "            <td>1   </td> <td>0.2        </td>\n",
       "        </tr>\n",
       "        <tr>\n",
       "            <td>2   </td> <td>0.4        </td>\n",
       "        </tr>\n",
       "    </tbody>\n",
       "</table>"
      ],
      "text/plain": [
       "y    | probability\n",
       "0    | 0.4\n",
       "1    | 0.2\n",
       "2    | 0.4"
      ]
     },
     "execution_count": 32,
     "metadata": {},
     "output_type": "execute_result"
    }
   ],
   "source": [
    "import datascience as ds\n",
    "marginal_pmf_y = ds.Table().with_columns('y', np.arange(3), 'probability', [0.40, 0.20, 0.40])\n",
    "marginal_pmf_y"
   ]
  },
  {
   "cell_type": "code",
   "execution_count": 33,
   "metadata": {},
   "outputs": [
    {
     "name": "stdout",
     "output_type": "stream",
     "text": [
      "E(Y) =  2.0\n",
      "V(Y) = 0.8000000000000007\n"
     ]
    }
   ],
   "source": [
    "expected_y = 1*(.17+.15+.08) + 2*(.1 + .1) + 3*(.08+.20+.12)\n",
    "print('E(Y) = ',expected_y)\n",
    "variance_y = 1*(.17+.15+.08) + 4*(.1 + .1) + 9*(.08+.20+.12) - expected_y**2\n",
    "print('V(Y) =',variance_y)"
   ]
  },
  {
   "cell_type": "markdown",
   "metadata": {},
   "source": [
    "### Conditional Probability\n",
    "\n",
    "We may be interested in the probability $X$ takes a specific value conditioned on the value of $Y$. Recall that conditional probability is given by $P(A|B)=\\frac{P(A,B)}{P(B)}$. \n",
    "\n",
    "So, essentially, conditional probability can be found by dividing the joint probability by the appropriate marginal probability. "
   ]
  },
  {
   "cell_type": "markdown",
   "metadata": {},
   "source": [
    "**_1.6_** Find $P(Y=1|X=3)$. \n",
    "\n",
    "**_1.7_** Find $f_{X|Y=2}(x)$, the conditional pmf of $X$, given $Y=2$. \n",
    "\n",
    "**_1.8_** Find $E(X|Y=2)$ and $V(X|Y=2)$. "
   ]
  },
  {
   "cell_type": "code",
   "execution_count": 34,
   "metadata": {
    "scrolled": true
   },
   "outputs": [
    {
     "name": "stdout",
     "output_type": "stream",
     "text": [
      "P(Y=1|X=3) = 0.2666666666666666\n"
     ]
    }
   ],
   "source": [
    "#1.6\n",
    "prob_y_1_given_x_3 = .08/(.08+.12+.10)\n",
    "print ('P(Y=1|X=3) =',prob_y_1_given_x_3 )"
   ]
  },
  {
   "cell_type": "code",
   "execution_count": 35,
   "metadata": {},
   "outputs": [
    {
     "name": "stdout",
     "output_type": "stream",
     "text": [
      "Conditional pmf of X given Y = 2:\n"
     ]
    },
    {
     "data": {
      "text/html": [
       "<table border=\"1\" class=\"dataframe\">\n",
       "    <thead>\n",
       "        <tr>\n",
       "            <th>X</th> <th>X Given Y =2</th>\n",
       "        </tr>\n",
       "    </thead>\n",
       "    <tbody>\n",
       "        <tr>\n",
       "            <td>1   </td> <td>0           </td>\n",
       "        </tr>\n",
       "        <tr>\n",
       "            <td>2   </td> <td>0.5         </td>\n",
       "        </tr>\n",
       "        <tr>\n",
       "            <td>3   </td> <td>0.5         </td>\n",
       "        </tr>\n",
       "    </tbody>\n",
       "</table>"
      ],
      "text/plain": [
       "X    | X Given Y =2\n",
       "1    | 0\n",
       "2    | 0.5\n",
       "3    | 0.5"
      ]
     },
     "execution_count": 35,
     "metadata": {},
     "output_type": "execute_result"
    }
   ],
   "source": [
    "# 1.7\n",
    "p_x_1_given_y_2 = 0/(.10+.10)\n",
    "p_x_2_given_y_2 = .10/(.10+.10)\n",
    "p_x_3_given_y_2 = .10/(.10+.10)\n",
    "table_x_g_y = Table().with_columns('X', make_array(1,2,3), 'X Given Y =2', make_array(p_x_1_given_y_2, p_x_2_given_y_2, p_x_3_given_y_2))\n",
    "print('Conditional pmf of X given Y = 2:')\n",
    "table_x_g_y"
   ]
  },
  {
   "cell_type": "code",
   "execution_count": 36,
   "metadata": {},
   "outputs": [
    {
     "name": "stdout",
     "output_type": "stream",
     "text": [
      "expected value of x given y is 2:\n",
      "2.5\n",
      "variance of x given y is 2: \n",
      "0.25\n"
     ]
    }
   ],
   "source": [
    "# 1.8\n",
    "expected_val_x_given_y_2 =  2*(.10/.2) + 3*(.10/.2)\n",
    "varience_x_given_y_2 = (4*(.10/.2) + 9*(.10/.2)) - expected_val_x_given_y_2**2\n",
    "print('expected value of x given y is 2:')\n",
    "print(expected_val_x_given_y_2)\n",
    "print('variance of x given y is 2: ')\n",
    "print(varience_x_given_y_2)"
   ]
  },
  {
   "cell_type": "markdown",
   "metadata": {},
   "source": [
    "**_1.9_** Are $X$ and $Y$ independent? Why or why not? "
   ]
  },
  {
   "cell_type": "markdown",
   "metadata": {},
   "source": [
    "No, they are dependent because when we did the test with the value of x = 1 and y = 3, it failed the interdependence test. The test determines if the P(x,y) = P(x) * P(y). This test failed, so they are dependent. "
   ]
  },
  {
   "cell_type": "markdown",
   "metadata": {},
   "source": [
    "### Covariance and Correlation\n",
    "\n",
    "Expected value and variance help us characterize $X$ and $Y$ marginally and conditionally, but we may also be interested in measuring the relationship between $X$ and $Y$. For this, we use *covariance*. \n",
    "\n",
    "$$\n",
    "Cov(X,Y)=E[(X-E(X))(Y-E(Y))] = E(XY)-E(X)E(Y)\n",
    "$$\n",
    "\n",
    "Note that if $X$ and $Y$ are independent, $Cov(X,Y) =0$. The converse is NOT necessarily true. \n",
    "\n",
    "Covariance is dependent on the scales of $X$ and $Y$, so if the two variables are of vastly different scale, we'll want to use covariance's unitless counterpart, correlation, denoted by $\\rho$. \n",
    "\n",
    "$$\n",
    "\\rho = \\frac{Cov(X,Y)}{\\sqrt{Var(X)Var(Y)}}\n",
    "$$\n",
    "\n",
    "$\\rho$ is bounded by the interval $[-1,1]$. When $\\rho=1$, $X$ and $Y$ are perfectly positively correlated. Similarly, when $\\rho=-1$, $X$ and $Y$ are perfectly negatively correlated. "
   ]
  },
  {
   "cell_type": "markdown",
   "metadata": {},
   "source": [
    "**_1.10_** Find $Cov(X,Y)$\n",
    "\n",
    "**_1.11_** Find $Corr(X,Y)$, or $\\rho$. "
   ]
  },
  {
   "cell_type": "code",
   "execution_count": 37,
   "metadata": {},
   "outputs": [
    {
     "name": "stdout",
     "output_type": "stream",
     "text": [
      "Cov(X,Y)= 0.13000000000000078\n"
     ]
    }
   ],
   "source": [
    "# 1.10\n",
    "e_xy = 1*(.17) + 2*(.15) + 3*(.08+.08) + 4*(.10) + 6*(.10+.20) + 9*(.12)\n",
    "e_x = 1*(.17+.08) + 2*(.15+.10+.20) + 3*(.08+.10+.12)\n",
    "e_y = 1*(.17+.15+.08) + 2*(.10+.10) + 3*(.08+.20+.12)\n",
    "e_x_y = e_x*e_y\n",
    "covar = e_xy - e_x_y\n",
    "print('Cov(X,Y)=', covar)"
   ]
  },
  {
   "cell_type": "code",
   "execution_count": 49,
   "metadata": {},
   "outputs": [
    {
     "name": "stdout",
     "output_type": "stream",
     "text": [
      "Corr(X,Y) =  0.19642931269503836\n"
     ]
    }
   ],
   "source": [
    "#1.11\n",
    "variance_y = 1*(.17+.15+.08) + 4*(.1 + .1) + 9*(.08+.20+.12) - e_y**2\n",
    "variance_x = 1*(.17+.08) + 4*(.15+.10+.20) + 9*(.08+.10+.12) - e_x**2\n",
    "roe_denom = (variance_x*variance_y) **.5\n",
    "roe_denom\n",
    "roe = covar/roe_denom\n",
    "print('Corr(X,Y) = ', roe)"
   ]
  },
  {
   "cell_type": "markdown",
   "metadata": {},
   "source": [
    "In problem 1.2, we found $E(X+Y)$. In order to find $Var(X+Y)$, we need to know how $X$ and $Y$ are correlated: \n",
    "\n",
    "$$\n",
    "Var(X+Y)= Var(X)+Var(Y)+2*Cov(X,Y)\n",
    "$$"
   ]
  },
  {
   "cell_type": "markdown",
   "metadata": {},
   "source": [
    "**_1.12_** Find $Var(X+Y)$. "
   ]
  },
  {
   "cell_type": "code",
   "execution_count": 39,
   "metadata": {},
   "outputs": [
    {
     "data": {
      "text/plain": [
       "1.6075000000000026"
      ]
     },
     "execution_count": 39,
     "metadata": {},
     "output_type": "execute_result"
    }
   ],
   "source": [
    "var_x_y = variance_x + variance_y + 2*covar\n",
    "var_x_y"
   ]
  },
  {
   "cell_type": "markdown",
   "metadata": {},
   "source": [
    "#### Example 2: Continuous Joint Distribution\n",
    "\n",
    "All of the concepts above apply to continuous random variables. Consider continuous random variables $X$ and $Y$ with the following joint pdf:\n",
    "\n",
    "$$\n",
    "f_{X,Y}(x,y)=k(x+y)\n",
    "$$\n",
    "\n",
    "where both $x$ and $y$ are bounded by the interval $[0,1]$. "
   ]
  },
  {
   "cell_type": "markdown",
   "metadata": {},
   "source": [
    "**_2.1_** Find the value of $k$ that makes $f$ a valid joint pdf. "
   ]
  },
  {
   "cell_type": "code",
   "execution_count": 40,
   "metadata": {},
   "outputs": [
    {
     "data": {
      "text/plain": [
       "1.0"
      ]
     },
     "execution_count": 40,
     "metadata": {},
     "output_type": "execute_result"
    }
   ],
   "source": [
    "# k would take a value of 1. This is because in order for it to be a valid pmf, \n",
    "# the integral of that function bound by [0,1] has to equal 1. k with a value of \n",
    "# 1 is the only value that makes this true since the function integrates to 1 without the k value. \n",
    "from scipy import integrate\n",
    "without_k = np.round(integrate.dblquad(lambda x,y:(x + y),0,1, 0, 1)[0],10)\n",
    "without_k"
   ]
  },
  {
   "cell_type": "markdown",
   "metadata": {},
   "source": [
    "**_2.2_** Find $P(X<0.5,Y<0.5)$"
   ]
  },
  {
   "cell_type": "code",
   "execution_count": 41,
   "metadata": {},
   "outputs": [
    {
     "data": {
      "text/plain": [
       "0.125"
      ]
     },
     "execution_count": 41,
     "metadata": {},
     "output_type": "execute_result"
    }
   ],
   "source": [
    "from scipy import integrate\n",
    "np.round(integrate.dblquad(lambda x,y:(x+y), 0, .5, 0, .5)[0], 10)\n"
   ]
  },
  {
   "cell_type": "markdown",
   "metadata": {},
   "source": [
    "**the proability for this function is 0.125**\n"
   ]
  },
  {
   "cell_type": "markdown",
   "metadata": {},
   "source": [
    "**_2.3_** Find $f_X(x)$ and $f_Y(y)$, the marginal pdfs of $X$ and $Y$. \n",
    "\n",
    "**_2.4_** Find $E(X)$ and $E(Y)$. "
   ]
  },
  {
   "cell_type": "code",
   "execution_count": 51,
   "metadata": {},
   "outputs": [
    {
     "name": "stdout",
     "output_type": "stream",
     "text": [
      "the marginal pdf of x is: x + .5\n",
      "the marginal pdf of y is y + .5\n",
      "to find these values, I integrated the function with respect to the opposite varaible. I could not figure out how to do this in matlab where it is able to return a variable\n"
     ]
    }
   ],
   "source": [
    "#2.3\n",
    "\n",
    "print('the marginal pdf of x is: x + .5')\n",
    "print('the marginal pdf of y is y + .5')\n",
    "\n",
    "print('to find these values, I integrated the function with respect to the opposite varaible. I could not figure out how to do this in matlab where it is able to return a variable')"
   ]
  },
  {
   "cell_type": "code",
   "execution_count": 42,
   "metadata": {},
   "outputs": [
    {
     "data": {
      "text/plain": [
       "0.5833333333"
      ]
     },
     "execution_count": 42,
     "metadata": {},
     "output_type": "execute_result"
    }
   ],
   "source": [
    "expected_x = np.round(integrate.quad(lambda x:x*(x + .5), 0, 1)[0],10)\n",
    "expected_x"
   ]
  },
  {
   "cell_type": "code",
   "execution_count": 43,
   "metadata": {},
   "outputs": [
    {
     "data": {
      "text/plain": [
       "0.5833333333"
      ]
     },
     "execution_count": 43,
     "metadata": {},
     "output_type": "execute_result"
    }
   ],
   "source": [
    "expected_y =  np.round(integrate.quad(lambda y:y*(y + .5), 0, 1)[0],10)\n",
    "expected_y"
   ]
  },
  {
   "cell_type": "markdown",
   "metadata": {},
   "source": [
    "**_2.5_** Find $P(X>0.5\\vert Y\\leq 0.5)$. "
   ]
  },
  {
   "cell_type": "code",
   "execution_count": 46,
   "metadata": {},
   "outputs": [
    {
     "data": {
      "text/plain": [
       "0.6666666666666666"
      ]
     },
     "execution_count": 46,
     "metadata": {},
     "output_type": "execute_result"
    }
   ],
   "source": [
    "#2.5 probability that x>.5 given y</ .5\n",
    "prob_yless_5 = integrate.dblquad(lambda x, y: 1*(x+y), 0, .5, lambda x: 0, lambda x: 1)[0]\n",
    "prob_total = integrate.dblquad(lambda x,y:1*(x+y), 0, .5, lambda x: .5, lambda x: 1)[0]\n",
    "prob_final = prob_total/prob_yless_5\n",
    "prob_final"
   ]
  },
  {
   "cell_type": "markdown",
   "metadata": {},
   "source": [
    "**_2.6_** Find the conditional distributions of $X|Y$ and $Y|X$. Recall that conditional distributions can be found by dividing the joint pdf by the relevant marginal pdf. \n",
    "\n",
    "**_2.7_** Find $E(X|Y)$ and $E(Y|X)$."
   ]
  },
  {
   "cell_type": "code",
   "execution_count": 62,
   "metadata": {},
   "outputs": [
    {
     "name": "stdout",
     "output_type": "stream",
     "text": [
      "for this i just took the joint pdf found above and divided it by the marginal pdf also above\n",
      "fx|y(X|Y) = (x+y)/(y+.5)\n",
      "fy|x(Y|X) = (x+y)/(x+.5)\n"
     ]
    }
   ],
   "source": [
    "#2.6\n",
    "def XgivenY(x,y):\n",
    "    return (x+y)/.5+y\n",
    "def YgivenX(x,y):\n",
    "    return (x+y)/.5+x\n",
    "print('for this i just took the joint pdf found above and divided it by the marginal pdf also above')\n",
    "print('fx|y(X|Y) = (x+y)/(y+.5)')\n",
    "print('fy|x(Y|X) = (x+y)/(x+.5)')"
   ]
  },
  {
   "cell_type": "code",
   "execution_count": 63,
   "metadata": {},
   "outputs": [
    {
     "name": "stdout",
     "output_type": "stream",
     "text": [
      "E(X|Y)= 1.4166666666666665 E(Y|X) = 1.4166666666666665\n"
     ]
    }
   ],
   "source": [
    "#2.7 expected values through integration\n",
    "\n",
    "EXgivenY = integrate.dblquad(lambda x,y:XgivenY(x,y)*x, 0, 1, lambda x:0, lambda x:1)[0]\n",
    "EYgivenX =  integrate.dblquad(lambda x,y:YgivenX(x,y)*y, 0, 1, lambda x:0, lambda x:1)[0]\n",
    "print('E(X|Y)=', EXgivenY, 'E(Y|X) =', EYgivenX)"
   ]
  },
  {
   "cell_type": "markdown",
   "metadata": {},
   "source": [
    "**_2.8_** Are $X$ and $Y$ independent? "
   ]
  },
  {
   "cell_type": "code",
   "execution_count": 67,
   "metadata": {},
   "outputs": [
    {
     "name": "stdout",
     "output_type": "stream",
     "text": [
      "in order for them to be independent, expected value of x would have to equal expected value of x given y:\n",
      "False\n",
      "since this output is false, X and Y are not independent\n"
     ]
    }
   ],
   "source": [
    "#2.8\n",
    "print('in order for them to be independent, expected value of x would have to equal expected value of x given y:')\n",
    "print(expected_x == EXgivenY)\n",
    "print('since this output is false, X and Y are not independent')"
   ]
  },
  {
   "cell_type": "markdown",
   "metadata": {},
   "source": [
    "**_2.9_** What is $Cov(X,Y)$? "
   ]
  },
  {
   "cell_type": "code",
   "execution_count": 71,
   "metadata": {},
   "outputs": [
    {
     "data": {
      "text/plain": [
       "0.9999999999999999"
      ]
     },
     "execution_count": 71,
     "metadata": {},
     "output_type": "execute_result"
    }
   ],
   "source": [
    "#2.9\n",
    "CovXY = integrate.dblquad(lambda x, y: (x+y)-(.5+x)*(.5-y), 0, 1, lambda x: 0, lambda x: 1)[0]\n",
    "CovXY"
   ]
  }
 ],
 "metadata": {
  "kernelspec": {
   "display_name": "Python 3",
   "language": "python",
   "name": "python3"
  },
  "language_info": {
   "codemirror_mode": {
    "name": "ipython",
    "version": 3
   },
   "file_extension": ".py",
   "mimetype": "text/x-python",
   "name": "python",
   "nbconvert_exporter": "python",
   "pygments_lexer": "ipython3",
   "version": "3.6.5"
  }
 },
 "nbformat": 4,
 "nbformat_minor": 2
}
